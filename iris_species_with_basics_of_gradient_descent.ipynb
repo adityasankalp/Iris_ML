{
  "nbformat": 4,
  "nbformat_minor": 0,
  "metadata": {
    "colab": {
      "name": "iris_species_with basics of gradient descent.ipynb",
      "provenance": [],
      "collapsed_sections": [],
      "authorship_tag": "ABX9TyN9Qy0YY2Dg0nDTpDHcwBX4",
      "include_colab_link": true
    },
    "kernelspec": {
      "name": "python3",
      "display_name": "Python 3"
    }
  },
  "cells": [
    {
      "cell_type": "markdown",
      "metadata": {
        "id": "view-in-github",
        "colab_type": "text"
      },
      "source": [
        "<a href=\"https://colab.research.google.com/github/adityasankalp/Iris_ML/blob/main/iris_species_with_basics_of_gradient_descent.ipynb\" target=\"_parent\"><img src=\"https://colab.research.google.com/assets/colab-badge.svg\" alt=\"Open In Colab\"/></a>"
      ]
    },
    {
      "cell_type": "markdown",
      "metadata": {
        "id": "M4L8YqAfH9yu"
      },
      "source": [
        "Import the relevant modules , numpy, pandas and tensorflow"
      ]
    },
    {
      "cell_type": "code",
      "metadata": {
        "id": "2F8MQf0zGPCZ"
      },
      "source": [
        "import numpy as np\r\n",
        "import pandas as pd\r\n",
        "import tensorflow as tf\r\n",
        "from tensorflow.keras import Model\r\n",
        "import math as math\r\n",
        "import matplotlib.pyplot as plt"
      ],
      "execution_count": 2,
      "outputs": []
    },
    {
      "cell_type": "markdown",
      "metadata": {
        "id": "ZioWOrXLIluG"
      },
      "source": [
        "Load the Iris file and store it in a dataframe. Check the data"
      ]
    },
    {
      "cell_type": "code",
      "metadata": {
        "colab": {
          "base_uri": "https://localhost:8080/"
        },
        "id": "RPvVRbkxIrYO",
        "outputId": "2ae32e7a-3227-4e85-dacd-152224e4d01f"
      },
      "source": [
        "from google.colab import drive\r\n",
        "drive.mount('/content/drive')"
      ],
      "execution_count": 3,
      "outputs": [
        {
          "output_type": "stream",
          "text": [
            "Mounted at /content/drive\n"
          ],
          "name": "stdout"
        }
      ]
    },
    {
      "cell_type": "code",
      "metadata": {
        "id": "Jdp7rXk7Kb54"
      },
      "source": [
        "data1 = pd.read_csv('/content/drive/My Drive/Colab Notebooks/Iris.csv') # read the database in a dataframe"
      ],
      "execution_count": 4,
      "outputs": []
    },
    {
      "cell_type": "code",
      "metadata": {
        "id": "smAXdVKULXym",
        "colab": {
          "base_uri": "https://localhost:8080/",
          "height": 359
        },
        "outputId": "5562b31f-3e20-44af-a1ea-ede341405269"
      },
      "source": [
        "data1.head(10) # examine the first 10 rows"
      ],
      "execution_count": 5,
      "outputs": [
        {
          "output_type": "execute_result",
          "data": {
            "text/html": [
              "<div>\n",
              "<style scoped>\n",
              "    .dataframe tbody tr th:only-of-type {\n",
              "        vertical-align: middle;\n",
              "    }\n",
              "\n",
              "    .dataframe tbody tr th {\n",
              "        vertical-align: top;\n",
              "    }\n",
              "\n",
              "    .dataframe thead th {\n",
              "        text-align: right;\n",
              "    }\n",
              "</style>\n",
              "<table border=\"1\" class=\"dataframe\">\n",
              "  <thead>\n",
              "    <tr style=\"text-align: right;\">\n",
              "      <th></th>\n",
              "      <th>Id</th>\n",
              "      <th>SepalLengthCm</th>\n",
              "      <th>SepalWidthCm</th>\n",
              "      <th>PetalLengthCm</th>\n",
              "      <th>PetalWidthCm</th>\n",
              "      <th>Species</th>\n",
              "    </tr>\n",
              "  </thead>\n",
              "  <tbody>\n",
              "    <tr>\n",
              "      <th>0</th>\n",
              "      <td>1</td>\n",
              "      <td>5.1</td>\n",
              "      <td>3.5</td>\n",
              "      <td>1.4</td>\n",
              "      <td>0.2</td>\n",
              "      <td>Iris-setosa</td>\n",
              "    </tr>\n",
              "    <tr>\n",
              "      <th>1</th>\n",
              "      <td>2</td>\n",
              "      <td>4.9</td>\n",
              "      <td>3.0</td>\n",
              "      <td>1.4</td>\n",
              "      <td>0.2</td>\n",
              "      <td>Iris-setosa</td>\n",
              "    </tr>\n",
              "    <tr>\n",
              "      <th>2</th>\n",
              "      <td>3</td>\n",
              "      <td>4.7</td>\n",
              "      <td>3.2</td>\n",
              "      <td>1.3</td>\n",
              "      <td>0.2</td>\n",
              "      <td>Iris-setosa</td>\n",
              "    </tr>\n",
              "    <tr>\n",
              "      <th>3</th>\n",
              "      <td>4</td>\n",
              "      <td>4.6</td>\n",
              "      <td>3.1</td>\n",
              "      <td>1.5</td>\n",
              "      <td>0.2</td>\n",
              "      <td>Iris-setosa</td>\n",
              "    </tr>\n",
              "    <tr>\n",
              "      <th>4</th>\n",
              "      <td>5</td>\n",
              "      <td>5.0</td>\n",
              "      <td>3.6</td>\n",
              "      <td>1.4</td>\n",
              "      <td>0.2</td>\n",
              "      <td>Iris-setosa</td>\n",
              "    </tr>\n",
              "    <tr>\n",
              "      <th>5</th>\n",
              "      <td>6</td>\n",
              "      <td>5.4</td>\n",
              "      <td>3.9</td>\n",
              "      <td>1.7</td>\n",
              "      <td>0.4</td>\n",
              "      <td>Iris-setosa</td>\n",
              "    </tr>\n",
              "    <tr>\n",
              "      <th>6</th>\n",
              "      <td>7</td>\n",
              "      <td>4.6</td>\n",
              "      <td>3.4</td>\n",
              "      <td>1.4</td>\n",
              "      <td>0.3</td>\n",
              "      <td>Iris-setosa</td>\n",
              "    </tr>\n",
              "    <tr>\n",
              "      <th>7</th>\n",
              "      <td>8</td>\n",
              "      <td>5.0</td>\n",
              "      <td>3.4</td>\n",
              "      <td>1.5</td>\n",
              "      <td>0.2</td>\n",
              "      <td>Iris-setosa</td>\n",
              "    </tr>\n",
              "    <tr>\n",
              "      <th>8</th>\n",
              "      <td>9</td>\n",
              "      <td>4.4</td>\n",
              "      <td>2.9</td>\n",
              "      <td>1.4</td>\n",
              "      <td>0.2</td>\n",
              "      <td>Iris-setosa</td>\n",
              "    </tr>\n",
              "    <tr>\n",
              "      <th>9</th>\n",
              "      <td>10</td>\n",
              "      <td>4.9</td>\n",
              "      <td>3.1</td>\n",
              "      <td>1.5</td>\n",
              "      <td>0.1</td>\n",
              "      <td>Iris-setosa</td>\n",
              "    </tr>\n",
              "  </tbody>\n",
              "</table>\n",
              "</div>"
            ],
            "text/plain": [
              "   Id  SepalLengthCm  SepalWidthCm  PetalLengthCm  PetalWidthCm      Species\n",
              "0   1            5.1           3.5            1.4           0.2  Iris-setosa\n",
              "1   2            4.9           3.0            1.4           0.2  Iris-setosa\n",
              "2   3            4.7           3.2            1.3           0.2  Iris-setosa\n",
              "3   4            4.6           3.1            1.5           0.2  Iris-setosa\n",
              "4   5            5.0           3.6            1.4           0.2  Iris-setosa\n",
              "5   6            5.4           3.9            1.7           0.4  Iris-setosa\n",
              "6   7            4.6           3.4            1.4           0.3  Iris-setosa\n",
              "7   8            5.0           3.4            1.5           0.2  Iris-setosa\n",
              "8   9            4.4           2.9            1.4           0.2  Iris-setosa\n",
              "9  10            4.9           3.1            1.5           0.1  Iris-setosa"
            ]
          },
          "metadata": {
            "tags": []
          },
          "execution_count": 5
        }
      ]
    },
    {
      "cell_type": "code",
      "metadata": {
        "id": "OGDHZ3bmMEXA"
      },
      "source": [
        "data2 = data1.copy() # copy the database in a new dataframe\r\n",
        "data2.shape\r\n",
        "data_3 = data2.sample(frac = 1).reset_index(drop = \"true\") # randomizes the dataframe\r\n",
        "data_test = data_3[:10] # copies 10 data for test\r\n",
        "data_train = data_3[20:].reset_index(drop ='true') # copies 130 data for training\r\n",
        "data_ft = data_3[10:20] # Additional 10 data for further testing"
      ],
      "execution_count": 6,
      "outputs": []
    },
    {
      "cell_type": "code",
      "metadata": {
        "id": "gLjgntoeUFcq",
        "colab": {
          "base_uri": "https://localhost:8080/"
        },
        "outputId": "2afc067f-ab07-4d32-d194-87a0c15a0204"
      },
      "source": [
        "print(data_test)\r\n",
        "print(data_train)"
      ],
      "execution_count": 7,
      "outputs": [
        {
          "output_type": "stream",
          "text": [
            "    Id  SepalLengthCm  ...  PetalWidthCm          Species\n",
            "0   79            6.0  ...           1.5  Iris-versicolor\n",
            "1   27            5.0  ...           0.4      Iris-setosa\n",
            "2   61            5.0  ...           1.0  Iris-versicolor\n",
            "3  126            7.2  ...           1.8   Iris-virginica\n",
            "4    8            5.0  ...           0.2      Iris-setosa\n",
            "5  131            7.4  ...           1.9   Iris-virginica\n",
            "6   50            5.0  ...           0.2      Iris-setosa\n",
            "7   18            5.1  ...           0.3      Iris-setosa\n",
            "8  144            6.8  ...           2.3   Iris-virginica\n",
            "9   30            4.7  ...           0.2      Iris-setosa\n",
            "\n",
            "[10 rows x 6 columns]\n",
            "      Id  SepalLengthCm  ...  PetalWidthCm          Species\n",
            "0    127            6.2  ...           1.8   Iris-virginica\n",
            "1     16            5.7  ...           0.4      Iris-setosa\n",
            "2     68            5.8  ...           1.0  Iris-versicolor\n",
            "3    149            6.2  ...           2.3   Iris-virginica\n",
            "4    125            6.7  ...           2.1   Iris-virginica\n",
            "..   ...            ...  ...           ...              ...\n",
            "125   58            4.9  ...           1.0  Iris-versicolor\n",
            "126  142            6.9  ...           2.3   Iris-virginica\n",
            "127  122            5.6  ...           2.0   Iris-virginica\n",
            "128  109            6.7  ...           1.8   Iris-virginica\n",
            "129   64            6.1  ...           1.4  Iris-versicolor\n",
            "\n",
            "[130 rows x 6 columns]\n"
          ],
          "name": "stdout"
        }
      ]
    },
    {
      "cell_type": "code",
      "metadata": {
        "colab": {
          "base_uri": "https://localhost:8080/"
        },
        "id": "qCceD8-gUZau",
        "outputId": "66909909-f7e7-433c-c46c-ab885f4e910b"
      },
      "source": [
        "data_train.shape"
      ],
      "execution_count": 8,
      "outputs": [
        {
          "output_type": "execute_result",
          "data": {
            "text/plain": [
              "(130, 6)"
            ]
          },
          "metadata": {
            "tags": []
          },
          "execution_count": 8
        }
      ]
    },
    {
      "cell_type": "code",
      "metadata": {
        "id": "3VaGxuf_Ur1r",
        "colab": {
          "base_uri": "https://localhost:8080/",
          "height": 204
        },
        "outputId": "7ee966b3-291b-4036-f7a7-0c28458b6add"
      },
      "source": [
        "# copy the features in training data\r\n",
        "x_train = data_train[[\"SepalLengthCm\",\"SepalWidthCm\",\"PetalLengthCm\",\"PetalWidthCm\"]].copy()\r\n",
        "x_train.head()\r\n",
        "x_test = data_test[[\"SepalLengthCm\",\"SepalWidthCm\",\"PetalLengthCm\",\"PetalWidthCm\"]].copy()\r\n",
        "x_ft = data_ft[[\"SepalLengthCm\",\"SepalWidthCm\",\"PetalLengthCm\",\"PetalWidthCm\"]].copy()\r\n",
        "\r\n",
        "# copy the labels for comparison\r\n",
        "y_train = data_train[[\"Species\"]].copy()\r\n",
        "y_test = data_test[[\"Species\"]].copy()\r\n",
        "y_ft = data_ft[[\"Species\"]].copy()\r\n",
        "y_train.head()"
      ],
      "execution_count": 9,
      "outputs": [
        {
          "output_type": "execute_result",
          "data": {
            "text/html": [
              "<div>\n",
              "<style scoped>\n",
              "    .dataframe tbody tr th:only-of-type {\n",
              "        vertical-align: middle;\n",
              "    }\n",
              "\n",
              "    .dataframe tbody tr th {\n",
              "        vertical-align: top;\n",
              "    }\n",
              "\n",
              "    .dataframe thead th {\n",
              "        text-align: right;\n",
              "    }\n",
              "</style>\n",
              "<table border=\"1\" class=\"dataframe\">\n",
              "  <thead>\n",
              "    <tr style=\"text-align: right;\">\n",
              "      <th></th>\n",
              "      <th>Species</th>\n",
              "    </tr>\n",
              "  </thead>\n",
              "  <tbody>\n",
              "    <tr>\n",
              "      <th>0</th>\n",
              "      <td>Iris-virginica</td>\n",
              "    </tr>\n",
              "    <tr>\n",
              "      <th>1</th>\n",
              "      <td>Iris-setosa</td>\n",
              "    </tr>\n",
              "    <tr>\n",
              "      <th>2</th>\n",
              "      <td>Iris-versicolor</td>\n",
              "    </tr>\n",
              "    <tr>\n",
              "      <th>3</th>\n",
              "      <td>Iris-virginica</td>\n",
              "    </tr>\n",
              "    <tr>\n",
              "      <th>4</th>\n",
              "      <td>Iris-virginica</td>\n",
              "    </tr>\n",
              "  </tbody>\n",
              "</table>\n",
              "</div>"
            ],
            "text/plain": [
              "           Species\n",
              "0   Iris-virginica\n",
              "1      Iris-setosa\n",
              "2  Iris-versicolor\n",
              "3   Iris-virginica\n",
              "4   Iris-virginica"
            ]
          },
          "metadata": {
            "tags": []
          },
          "execution_count": 9
        }
      ]
    },
    {
      "cell_type": "code",
      "metadata": {
        "colab": {
          "base_uri": "https://localhost:8080/"
        },
        "id": "V9sCILA-HRWL",
        "outputId": "61c5c85d-683f-4645-b838-bafb98f3d8a7"
      },
      "source": [
        "# Convert training data to matrix format  from dataframe to model\r\n",
        "x_trainA = np.array(x_train)\r\n",
        "print(x_trainA.shape)\r\n",
        "x_testA = np.array(x_test)\r\n",
        "x_testA.shape\r\n",
        "#print(x_testA)\r\n",
        "x_ftA = np.array(x_ft)"
      ],
      "execution_count": 10,
      "outputs": [
        {
          "output_type": "stream",
          "text": [
            "(130, 4)\n"
          ],
          "name": "stdout"
        }
      ]
    },
    {
      "cell_type": "code",
      "metadata": {
        "colab": {
          "base_uri": "https://localhost:8080/"
        },
        "id": "H-lvtGyeHRKa",
        "outputId": "6341962f-e652-4a17-f3e1-767e58327f8c"
      },
      "source": [
        "print(x_test)\r\n",
        "print(x_testA)"
      ],
      "execution_count": 11,
      "outputs": [
        {
          "output_type": "stream",
          "text": [
            "   SepalLengthCm  SepalWidthCm  PetalLengthCm  PetalWidthCm\n",
            "0            6.0           2.9            4.5           1.5\n",
            "1            5.0           3.4            1.6           0.4\n",
            "2            5.0           2.0            3.5           1.0\n",
            "3            7.2           3.2            6.0           1.8\n",
            "4            5.0           3.4            1.5           0.2\n",
            "5            7.4           2.8            6.1           1.9\n",
            "6            5.0           3.3            1.4           0.2\n",
            "7            5.1           3.5            1.4           0.3\n",
            "8            6.8           3.2            5.9           2.3\n",
            "9            4.7           3.2            1.6           0.2\n",
            "[[6.  2.9 4.5 1.5]\n",
            " [5.  3.4 1.6 0.4]\n",
            " [5.  2.  3.5 1. ]\n",
            " [7.2 3.2 6.  1.8]\n",
            " [5.  3.4 1.5 0.2]\n",
            " [7.4 2.8 6.1 1.9]\n",
            " [5.  3.3 1.4 0.2]\n",
            " [5.1 3.5 1.4 0.3]\n",
            " [6.8 3.2 5.9 2.3]\n",
            " [4.7 3.2 1.6 0.2]]\n"
          ],
          "name": "stdout"
        }
      ]
    },
    {
      "cell_type": "code",
      "metadata": {
        "id": "C5TMgsaOHQ_B"
      },
      "source": [
        "\r\n"
      ],
      "execution_count": null,
      "outputs": []
    },
    {
      "cell_type": "code",
      "metadata": {
        "id": "EKcmjidmHQiK"
      },
      "source": [
        ""
      ],
      "execution_count": null,
      "outputs": []
    },
    {
      "cell_type": "code",
      "metadata": {
        "id": "qUru7rK_WwWa",
        "colab": {
          "base_uri": "https://localhost:8080/"
        },
        "outputId": "870becc3-0c96-4d7c-f5e2-f739416bcd06"
      },
      "source": [
        "# one- hot encoding of the labels requires as labels are in string format.\r\n",
        "y_testA = y_test.replace({'Iris-setosa':0,'Iris-versicolor':1,'Iris-virginica':2})\r\n",
        "y_trainA = y_train.replace({'Iris-setosa':0,'Iris-versicolor':1,'Iris-virginica':2})\r\n",
        "y_ftA = y_ft.replace({'Iris-setosa':0,'Iris-versicolor':1,'Iris-virginica':2})\r\n",
        "\r\n",
        "y_testB = tf.one_hot(y_testA['Species'].tolist(),3) # one hot encoding of test and training data\r\n",
        "print(y_testB)\r\n",
        "y_trainB = tf.one_hot(y_trainA['Species'].tolist(),3)\r\n",
        "#print(y_trainB)\r\n",
        "y_ftB = np.array(tf.one_hot(y_ftA['Species'].tolist(),3))"
      ],
      "execution_count": 90,
      "outputs": [
        {
          "output_type": "stream",
          "text": [
            "tf.Tensor(\n",
            "[[0. 1. 0.]\n",
            " [1. 0. 0.]\n",
            " [0. 1. 0.]\n",
            " [0. 0. 1.]\n",
            " [1. 0. 0.]\n",
            " [0. 0. 1.]\n",
            " [1. 0. 0.]\n",
            " [1. 0. 0.]\n",
            " [0. 0. 1.]\n",
            " [1. 0. 0.]], shape=(10, 3), dtype=float32)\n"
          ],
          "name": "stdout"
        }
      ]
    },
    {
      "cell_type": "code",
      "metadata": {
        "id": "fNjHX8hhaXc8"
      },
      "source": [
        "y_trainB2 = np.array(y_trainB)\r\n",
        "y_testB2 = np.array(y_testB)"
      ],
      "execution_count": 21,
      "outputs": []
    },
    {
      "cell_type": "code",
      "metadata": {
        "colab": {
          "base_uri": "https://localhost:8080/"
        },
        "id": "1pHIsg-7a1Lt",
        "outputId": "4bd482c1-6570-4b13-f623-3cdc7290d98e"
      },
      "source": [
        "#a1 = np.ones((4,1))\r\n",
        "\r\n",
        "#x_trainA[129:130].shape\r\n",
        "#x_trainA[0:1] @ a1\r\n",
        "#y_trainB2[0:1].shape\r\n",
        "#np.random.rand(3,1)\r\n",
        "np.sum(x_trainA[0:])"
      ],
      "execution_count": 14,
      "outputs": [
        {
          "output_type": "execute_result",
          "data": {
            "text/plain": [
              "1803.8"
            ]
          },
          "metadata": {
            "tags": []
          },
          "execution_count": 14
        }
      ]
    },
    {
      "cell_type": "code",
      "metadata": {
        "id": "hZfHoUazOtRX"
      },
      "source": [
        "def sigma(x):\r\n",
        "  x1 = 1/(1+np.exp(-x))\r\n",
        "  return(x1)"
      ],
      "execution_count": 15,
      "outputs": []
    },
    {
      "cell_type": "code",
      "metadata": {
        "id": "FobLYV937Zj5"
      },
      "source": [
        "def relu_f(x):\r\n",
        "  return(np.maximum(0,x))\r\n",
        "\r\n",
        "def relu2(x):\r\n",
        "  x[x<=0] =0\r\n",
        "  x[x>0] = 1\r\n",
        "  return(x)\r\n",
        "\r\n",
        "def soft(x):\r\n",
        "  return(np.exp(x)/np.sum(np.exp(x),axis = 0 ,keepdims = 1))\r\n",
        "\r\n",
        "def relu_d(x):\r\n",
        "  return(np.greater(x, 0).astype(int))\r\n",
        "    "
      ],
      "execution_count": 16,
      "outputs": []
    },
    {
      "cell_type": "code",
      "metadata": {
        "colab": {
          "base_uri": "https://localhost:8080/"
        },
        "id": "gcqMyQVP7o7C",
        "outputId": "f3ca1528-58f2-4aae-94d8-aa33e5a3c2db"
      },
      "source": [
        "test2 = [[-21, -3, -4, 4],[3, 4, 0.34, 6]]\r\n",
        "test3 = np.array(test2)\r\n",
        "#print(relu_f(test3))\r\n",
        "#print(relu_d(test2))\r\n",
        "print(soft(test2))\r\n",
        "\r\n"
      ],
      "execution_count": 17,
      "outputs": [
        {
          "output_type": "stream",
          "text": [
            "[[3.77513454e-11 9.11051194e-04 1.28687642e-02 1.19202922e-01]\n",
            " [1.00000000e+00 9.99088949e-01 9.87131236e-01 8.80797078e-01]]\n"
          ],
          "name": "stdout"
        }
      ]
    },
    {
      "cell_type": "code",
      "metadata": {
        "colab": {
          "base_uri": "https://localhost:8080/",
          "height": 282
        },
        "id": "Cgubx7W5Is4P",
        "outputId": "79ca5699-68f3-4bd4-8a45-58f861c595ac"
      },
      "source": [
        "m1 = x_trainA.shape[0]\r\n",
        "#print(m1)\r\n",
        "learning_rate = 0.01\r\n",
        "\r\n",
        "w1 = np.random.rand(4,32) # initialise first weight with random weights between 0 an 1\r\n",
        "b1 = np.random.rand(32,1) # initialise bias with random numbers between 0 and 1\r\n",
        "w2 = np.random.rand(32,3)\r\n",
        "b2 = np.random.rand(3,1)\r\n",
        "#print(w2)\r\n",
        "Loss1 = 0\r\n",
        "loss2 = []\r\n",
        "dz1 = 0\r\n",
        "dz2 = 0\r\n",
        "dw1 = 0\r\n",
        "dw2 = 0\r\n",
        "db1 = 0 \r\n",
        "db2 = 0\r\n",
        "for i in range(0,600):\r\n",
        "  z1 = (w1.T) @ (x_trainA.T) + b1\r\n",
        "  a1 = relu_f(z1)\r\n",
        "  z2 = (w2.T) @ (a1) + b2\r\n",
        "  a2a = relu_f(z2)\r\n",
        "  a2 = soft(a2a)\r\n",
        "  Loss1 = np.sum(-(y_trainB2.T*np.log(a2) + (1-y_trainB2.T)*(np.log(1-a2)))/m1)\r\n",
        "  #print(Loss1)\r\n",
        "  loss2.append(Loss1)\r\n",
        "\r\n",
        "  dz2 = (a2 - y_trainB2.T)\r\n",
        "  dw2 = a1 @ dz2.T\r\n",
        "  db2 = np.sum(dz2)\r\n",
        "\r\n",
        "  dz1 = (w2 @ dz2)*(relu_d(a1))\r\n",
        "  dw1 = x_trainA.T @ dz1.T\r\n",
        "  db1 = np.sum(dz1)\r\n",
        "\r\n",
        "  w2 = w2 - learning_rate*dw2/m1\r\n",
        "  b2 = b2 - learning_rate*db2/m1\r\n",
        "  w1 = w1 - learning_rate*dw1/m1\r\n",
        "  b1 = b1 - learning_rate*db1/m1\r\n",
        "\r\n",
        "  #print(\" dz2,dw2,db2\",dz2,dw2,db2)\r\n",
        "  #print(\" dz1,dw1,db1\",dz1,dw1,db1)\r\n",
        "  #print(w2)\r\n",
        "print(Loss1)\r\n",
        "plt.plot(list(range(0,600)),loss2)\r\n",
        "plt.grid(which = 'minor', axis ='both')\r\n",
        "plt.show()\r\n"
      ],
      "execution_count": 27,
      "outputs": [
        {
          "output_type": "stream",
          "text": [
            "0.2900948368296573\n"
          ],
          "name": "stdout"
        },
        {
          "output_type": "display_data",
          "data": {
            "image/png": "[encoded data removed]",
            "text/plain": [
              "<Figure size 432x288 with 1 Axes>"
            ]
          },
          "metadata": {
            "tags": [],
            "needs_background": "light"
          }
        }
      ]
    },
    {
      "cell_type": "code",
      "metadata": {
        "colab": {
          "base_uri": "https://localhost:8080/"
        },
        "id": "suDVbYZQ5zvz",
        "outputId": "eeae19cb-ce6f-417a-b3c6-adf6fc3dc8ba"
      },
      "source": [
        "#(a22/max(a22)>0.99).astype(int)\r\n",
        "\r\n",
        "w1 = np.random.rand(4,4) # initialise first weight with random weights between 0 an 1\r\n",
        "b1 = np.random.rand(4,1) # initialise bias with random numbers between 0 and 1\r\n",
        "w2 = np.random.rand(4,3)\r\n",
        "b2 = np.random.rand(3,1)\r\n",
        "\r\n",
        "z1 = (w1.T) @ (x_trainA.T) + b1\r\n",
        "a1 = relu_f(z1)\r\n",
        "z2 = (w2.T) @ (a1) + b2\r\n",
        "a2a = relu_f(z2)\r\n",
        "a2 = soft(a2a)\r\n",
        "Loss1 = np.sum(-(y_trainB2.T*np.log(a2) + (1-y_trainB2.T)*(np.log(1-a2)))/m1)\r\n",
        "#print(a2.shape)\r\n",
        "#print(a2a)\r\n",
        "print(Loss1)"
      ],
      "execution_count": 24,
      "outputs": [
        {
          "output_type": "stream",
          "text": [
            "9.007061697194734\n"
          ],
          "name": "stdout"
        }
      ]
    },
    {
      "cell_type": "code",
      "metadata": {
        "id": "zTvo0Pno9sJD"
      },
      "source": [
        "def compare(x2,y2):\r\n",
        "  label = ['Iris-setosa','Iris-versicolor','Iris-virginica']\r\n",
        "  t2 = (np.greater(x2,0.7).astype(int))\r\n",
        "  t3 = np.argmax(t2,axis = 0)\r\n",
        "  t4 = np.argmax(y2,axis = 1)\r\n",
        "#print(a22)\r\n",
        "#print(t2.shape)\r\n",
        "#print(t3)\r\n",
        "#label.T @ t2\r\n",
        "  t55 =[]\r\n",
        "  for i in range(0,10):\r\n",
        "  #print(label[t3[i]],label[t4[i]])\r\n",
        "    t55.append('Test is '+label[t3[i]]+'  Label is '+label[t4[i]])\r\n",
        "  return(t55)\r\n",
        "    #print(np.array(t55).T)\r\n"
      ],
      "execution_count": 86,
      "outputs": []
    },
    {
      "cell_type": "code",
      "metadata": {
        "id": "G2h7Q2TcqGNz"
      },
      "source": [
        "#x_testA\r\n",
        "#print(x_testA)\r\n",
        "#for i in range(0,10):\r\n",
        "def evaluate_model(x1,y1):\r\n",
        "  z11 = (w1.T) @ (x1.T) + b1\r\n",
        "#print(z11)\r\n",
        "  a11 = relu_f(z11)\r\n",
        "  z22 = (w2.T) @ (a11) + b2\r\n",
        "  a22a = relu_f(z22)\r\n",
        "  a22 = soft(a22a)\r\n",
        "\r\n",
        "  Loss11 = np.sum(-(y1.T*np.log(a22) + (1-y1.T)*(np.log(1-a22)))/len(x1)) \r\n",
        "  #print(Loss11)\r\n",
        "  return(a22,Loss11)\r\n",
        "  #print(a22)\r\n",
        "  #print((np.greater(a22,0.7).astype(int)))\r\n"
      ],
      "execution_count": 78,
      "outputs": []
    },
    {
      "cell_type": "code",
      "metadata": {
        "colab": {
          "base_uri": "https://localhost:8080/"
        },
        "id": "tfQG2dN9Fk2S",
        "outputId": "bacace5e-8646-4740-90fa-81576c003ee3"
      },
      "source": [
        "v1 = evaluate_model(x_testA,y_testB2)\r\n",
        "v2 = compare(v1[0],y_testB2)\r\n",
        "for i in v2:\r\n",
        "  print(i) "
      ],
      "execution_count": 89,
      "outputs": [
        {
          "output_type": "stream",
          "text": [
            "Test is Iris-versicolor  Label is Iris-versicolor\n",
            "Test is Iris-setosa  Label is Iris-setosa\n",
            "Test is Iris-versicolor  Label is Iris-versicolor\n",
            "Test is Iris-virginica  Label is Iris-virginica\n",
            "Test is Iris-setosa  Label is Iris-setosa\n",
            "Test is Iris-virginica  Label is Iris-virginica\n",
            "Test is Iris-setosa  Label is Iris-setosa\n",
            "Test is Iris-setosa  Label is Iris-setosa\n",
            "Test is Iris-virginica  Label is Iris-virginica\n",
            "Test is Iris-setosa  Label is Iris-setosa\n"
          ],
          "name": "stdout"
        }
      ]
    },
    {
      "cell_type": "code",
      "metadata": {
        "colab": {
          "base_uri": "https://localhost:8080/"
        },
        "id": "vT2BMAb5H3da",
        "outputId": "c9cd7ec7-fc34-4689-8e51-b5d39ce8632a"
      },
      "source": [
        "v3 = evaluate_model(x_ftA,y_ftB)\r\n",
        "v4 = compare(v3[0],y_ftB)\r\n",
        "for i in v4:\r\n",
        "  print(i) "
      ],
      "execution_count": 91,
      "outputs": [
        {
          "output_type": "stream",
          "text": [
            "Test is Iris-setosa  Label is Iris-setosa\n",
            "Test is Iris-versicolor  Label is Iris-versicolor\n",
            "Test is Iris-setosa  Label is Iris-setosa\n",
            "Test is Iris-virginica  Label is Iris-virginica\n",
            "Test is Iris-setosa  Label is Iris-virginica\n",
            "Test is Iris-virginica  Label is Iris-virginica\n",
            "Test is Iris-virginica  Label is Iris-virginica\n",
            "Test is Iris-setosa  Label is Iris-setosa\n",
            "Test is Iris-virginica  Label is Iris-virginica\n",
            "Test is Iris-setosa  Label is Iris-setosa\n"
          ],
          "name": "stdout"
        }
      ]
    },
    {
      "cell_type": "code",
      "metadata": {
        "colab": {
          "base_uri": "https://localhost:8080/"
        },
        "id": "4yxBi3HWGnIn",
        "outputId": "1a9f8668-a71d-4ea4-df05-ed77f658ace1"
      },
      "source": [
        "np.array(v2)"
      ],
      "execution_count": 88,
      "outputs": [
        {
          "output_type": "execute_result",
          "data": {
            "text/plain": [
              "array(['Test is Iris-versicolor  Label is Iris-versicolor',\n",
              "       'Test is Iris-setosa  Label is Iris-setosa',\n",
              "       'Test is Iris-versicolor  Label is Iris-versicolor',\n",
              "       'Test is Iris-virginica  Label is Iris-virginica',\n",
              "       'Test is Iris-setosa  Label is Iris-setosa',\n",
              "       'Test is Iris-virginica  Label is Iris-virginica',\n",
              "       'Test is Iris-setosa  Label is Iris-setosa',\n",
              "       'Test is Iris-setosa  Label is Iris-setosa',\n",
              "       'Test is Iris-virginica  Label is Iris-virginica',\n",
              "       'Test is Iris-setosa  Label is Iris-setosa'], dtype='<U49')"
            ]
          },
          "metadata": {
            "tags": []
          },
          "execution_count": 88
        }
      ]
    },
    {
      "cell_type": "code",
      "metadata": {
        "colab": {
          "base_uri": "https://localhost:8080/"
        },
        "id": "ppDh_YL_6b7K",
        "outputId": "431e030e-e6c0-4f5b-f0ea-1309cb50cb0e"
      },
      "source": [
        "len(x_testA)"
      ],
      "execution_count": 74,
      "outputs": [
        {
          "output_type": "execute_result",
          "data": {
            "text/plain": [
              "10"
            ]
          },
          "metadata": {
            "tags": []
          },
          "execution_count": 74
        }
      ]
    },
    {
      "cell_type": "code",
      "metadata": {
        "colab": {
          "base_uri": "https://localhost:8080/"
        },
        "id": "mENghoMwpeUq",
        "outputId": "71d5fbc5-0d7c-4a9f-b3d5-7d455b03daa2"
      },
      "source": [
        "y_testB"
      ],
      "execution_count": 100,
      "outputs": [
        {
          "output_type": "execute_result",
          "data": {
            "text/plain": [
              "<tf.Tensor: shape=(10, 3), dtype=float32, numpy=\n",
              "array([[0., 1., 0.],\n",
              "       [0., 1., 0.],\n",
              "       [0., 0., 1.],\n",
              "       [0., 1., 0.],\n",
              "       [1., 0., 0.],\n",
              "       [0., 0., 1.],\n",
              "       [0., 0., 1.],\n",
              "       [0., 1., 0.],\n",
              "       [1., 0., 0.],\n",
              "       [1., 0., 0.]], dtype=float32)>"
            ]
          },
          "metadata": {
            "tags": []
          },
          "execution_count": 100
        }
      ]
    },
    {
      "cell_type": "code",
      "metadata": {
        "id": "DkioqNQMoT77"
      },
      "source": [
        "print(Loss1)"
      ],
      "execution_count": null,
      "outputs": []
    },
    {
      "cell_type": "code",
      "metadata": {
        "colab": {
          "base_uri": "https://localhost:8080/"
        },
        "id": "47LppFSBIszN",
        "outputId": "f9fef17c-7e78-4733-ae32-c46b2f9946a9"
      },
      "source": [
        "#print(np.random.rand(2,2))\r\n",
        "#a1 = np.ones((3,2))\r\n",
        "#b1 = 3*np.ones((3,2))\r\n",
        "\r\n",
        "#np.exp(1)\r\n",
        "#print(sigma(a1))\r\n",
        "#np.log(2)\r\n",
        "\r\n",
        "#print(b1.T @ (a1))\r\n",
        "print(y_trainB.shape)\r\n",
        "print(x_trainA.shape)\r\n",
        "(x_trainA.shape[0])"
      ],
      "execution_count": 55,
      "outputs": [
        {
          "output_type": "stream",
          "text": [
            "(130, 3)\n",
            "(130, 4)\n"
          ],
          "name": "stdout"
        },
        {
          "output_type": "execute_result",
          "data": {
            "text/plain": [
              "130"
            ]
          },
          "metadata": {
            "tags": []
          },
          "execution_count": 55
        }
      ]
    },
    {
      "cell_type": "code",
      "metadata": {
        "id": "Veh_Sp9RIsez"
      },
      "source": [
        ""
      ],
      "execution_count": null,
      "outputs": []
    },
    {
      "cell_type": "code",
      "metadata": {
        "id": "0tPPJyNh9d0r"
      },
      "source": [
        "# Convert training data to required format for model\r\n",
        "x_trainA = np.array(x_train)\r\n",
        "x_trainA.shape\r\n",
        "x_testA = np.array(x_test)\r\n",
        "x_testA.shape\r\n",
        "print(x_testA)\r\n",
        "x_ftA = np.array(x_ft)"
      ],
      "execution_count": null,
      "outputs": []
    },
    {
      "cell_type": "code",
      "metadata": {
        "id": "DEoNCdHF5ov5"
      },
      "source": [
        "#Model architecture using 1 hidden layer and 1 output layer \r\n",
        "model = tf.keras.models.Sequential()     \r\n",
        "model.add(tf.keras.layers.Dense(64, activation='relu', input_shape=(4,)))    \r\n",
        "model.add(tf.keras.layers.Dense(3, activation='softmax'))   \r\n",
        "\r\n",
        "model.summary()"
      ],
      "execution_count": null,
      "outputs": []
    },
    {
      "cell_type": "code",
      "metadata": {
        "id": "PaSHu0jM90sA"
      },
      "source": [
        "# Define the loss function, momentum (optimiser) and metrics\r\n",
        "model.compile(loss='categorical_crossentropy',optimizer= 'rmsprop',metrics=['accuracy'])\r\n",
        "\r\n",
        "history = model.fit(x_trainA, y_trainB,\r\n",
        "                    batch_size=10,\r\n",
        "                    epochs=100,\r\n",
        "                    verbose=1,\r\n",
        "                    validation_data=(x_testA, y_testB))"
      ],
      "execution_count": null,
      "outputs": []
    },
    {
      "cell_type": "code",
      "metadata": {
        "id": "dtN64F85-EIh"
      },
      "source": [
        "# Evaluate the test data\r\n",
        "score = model.evaluate(x_testA, y_testB, verbose=0)\r\n",
        "# Prints out scores\r\n",
        "print('Test loss:', score[0])\r\n",
        "print('Test accuracy:', score[1])"
      ],
      "execution_count": null,
      "outputs": []
    },
    {
      "cell_type": "code",
      "metadata": {
        "id": "n3rRRkQ9GZxM"
      },
      "source": [
        "# further tests with additional data\r\n",
        "#print(data_ft)\r\n",
        "print(x_ftA)\r\n",
        "#print(y_ft)\r\n",
        "len(x_ftA)\r\n",
        "#for i in range(0,len(x_ftA)):\r\n",
        " # print(x_ftA[:][i].T)\r\n",
        "for i in x_ftA:\r\n",
        "  print(i.T)"
      ],
      "execution_count": null,
      "outputs": []
    },
    {
      "cell_type": "code",
      "metadata": {
        "id": "DmWnqO5lBTGq"
      },
      "source": [
        "# Comparison of additional test data\r\n",
        "label = ['Iris-setosa','Iris-versicolor','Iris-virginica']\r\n",
        "#t1 = [[5,2.3,3.3,1]]\r\n",
        "\r\n",
        "#for i in x_ftA:\r\n",
        "t2 = model.predict(x_ftA)\r\n",
        "#print(t2)\r\n",
        "t3 = np.argmax(t2,axis = 1)\r\n",
        "#print(t3)\r\n",
        "\r\n",
        "print(y_ft)\r\n",
        "\r\n",
        "for i in t3:\r\n",
        "  print(label[i])\r\n",
        "\r\n",
        "#print(label[t3])\r\n",
        "#print(t2)\r\n",
        "#print(t2.shape)\r\n",
        "\r\n",
        "#print(t3)\r\n"
      ],
      "execution_count": null,
      "outputs": []
    }
  ]
}