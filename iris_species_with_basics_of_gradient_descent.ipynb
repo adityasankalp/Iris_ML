{
  "nbformat": 4,
  "nbformat_minor": 0,
  "metadata": {
    "colab": {
      "name": "iris_species_with basics of gradient descent.ipynb",
      "provenance": [],
      "collapsed_sections": [],
      "authorship_tag": "ABX9TyOSFLSGOQrJkd1fTc9fPz/F",
      "include_colab_link": true
    },
    "kernelspec": {
      "name": "python3",
      "display_name": "Python 3"
    }
  },
  "cells": [
    {
      "cell_type": "markdown",
      "metadata": {
        "id": "view-in-github",
        "colab_type": "text"
      },
      "source": [
        "<a href=\"https://colab.research.google.com/github/adityasankalp/Iris_ML/blob/main/iris_species_with_basics_of_gradient_descent.ipynb\" target=\"_parent\"><img src=\"https://colab.research.google.com/assets/colab-badge.svg\" alt=\"Open In Colab\"/></a>"
      ]
    },
    {
      "cell_type": "markdown",
      "metadata": {
        "id": "M4L8YqAfH9yu"
      },
      "source": [
        "Import the relevant modules , numpy, pandas and tensorflow"
      ]
    },
    {
      "cell_type": "code",
      "metadata": {
        "id": "2F8MQf0zGPCZ"
      },
      "source": [
        "import numpy as np\r\n",
        "import pandas as pd\r\n",
        "import tensorflow as tf\r\n",
        "from tensorflow.keras import Model\r\n",
        "import math as math\r\n",
        "import matplotlib.pyplot as plt"
      ],
      "execution_count": 2,
      "outputs": []
    },
    {
      "cell_type": "markdown",
      "metadata": {
        "id": "ZioWOrXLIluG"
      },
      "source": [
        "Load the Iris file and store it in a dataframe. Check the data"
      ]
    },
    {
      "cell_type": "code",
      "metadata": {
        "colab": {
          "base_uri": "https://localhost:8080/"
        },
        "id": "RPvVRbkxIrYO",
        "outputId": "2ae32e7a-3227-4e85-dacd-152224e4d01f"
      },
      "source": [
        "from google.colab import drive\r\n",
        "drive.mount('/content/drive')"
      ],
      "execution_count": 3,
      "outputs": [
        {
          "output_type": "stream",
          "text": [
            "Mounted at /content/drive\n"
          ],
          "name": "stdout"
        }
      ]
    },
    {
      "cell_type": "code",
      "metadata": {
        "id": "Jdp7rXk7Kb54"
      },
      "source": [
        "data1 = pd.read_csv('/content/drive/My Drive/Colab Notebooks/Iris.csv') # read the database in a dataframe"
      ],
      "execution_count": 4,
      "outputs": []
    },
    {
      "cell_type": "code",
      "metadata": {
        "id": "smAXdVKULXym"
      },
      "source": [
        "data1.head(10) # examine the first 10 rows"
      ],
      "execution_count": null,
      "outputs": []
    },
    {
      "cell_type": "code",
      "metadata": {
        "id": "OGDHZ3bmMEXA"
      },
      "source": [
        "data2 = data1.copy() # copy the database in a new dataframe\r\n",
        "data2.shape\r\n",
        "# randomize the dataframe\r\n",
        "data_3 = data2.sample(frac = 1).reset_index(drop = \"true\") \r\n",
        "data_test = data_3[:10] # copies 10 data for test\r\n",
        "data_train = data_3[20:].reset_index(drop ='true') # copies 130 data for training\r\n",
        "data_ft = data_3[10:20] # Additional 10 data for further testing"
      ],
      "execution_count": 6,
      "outputs": []
    },
    {
      "cell_type": "code",
      "metadata": {
        "id": "3VaGxuf_Ur1r"
      },
      "source": [
        "# copy the features in training data\r\n",
        "x_train = data_train[[\"SepalLengthCm\",\"SepalWidthCm\",\"PetalLengthCm\",\"PetalWidthCm\"]].copy()\r\n",
        "x_train.head()\r\n",
        "x_test = data_test[[\"SepalLengthCm\",\"SepalWidthCm\",\"PetalLengthCm\",\"PetalWidthCm\"]].copy()\r\n",
        "x_ft = data_ft[[\"SepalLengthCm\",\"SepalWidthCm\",\"PetalLengthCm\",\"PetalWidthCm\"]].copy()\r\n",
        "\r\n",
        "# copy the labels for comparison\r\n",
        "y_train = data_train[[\"Species\"]].copy()\r\n",
        "y_test = data_test[[\"Species\"]].copy()\r\n",
        "y_ft = data_ft[[\"Species\"]].copy()\r\n",
        "y_train.head()"
      ],
      "execution_count": null,
      "outputs": []
    },
    {
      "cell_type": "code",
      "metadata": {
        "colab": {
          "base_uri": "https://localhost:8080/"
        },
        "id": "V9sCILA-HRWL",
        "outputId": "61c5c85d-683f-4645-b838-bafb98f3d8a7"
      },
      "source": [
        "# Convert training data to matrix format  from dataframe to model\r\n",
        "x_trainA = np.array(x_train)\r\n",
        "print(x_trainA.shape)\r\n",
        "x_testA = np.array(x_test)\r\n",
        "x_ftA = np.array(x_ft)"
      ],
      "execution_count": 10,
      "outputs": [
        {
          "output_type": "stream",
          "text": [
            "(130, 4)\n"
          ],
          "name": "stdout"
        }
      ]
    },
    {
      "cell_type": "code",
      "metadata": {
        "id": "qUru7rK_WwWa"
      },
      "source": [
        "# one- hot encoding of the labels required as labels are in string format.\r\n",
        "# store indices inplace of string to allow one hot encoding\r\n",
        "y_testA = y_test.replace({'Iris-setosa':0,'Iris-versicolor':1,'Iris-virginica':2})\r\n",
        "y_trainA = y_train.replace({'Iris-setosa':0,'Iris-versicolor':1,'Iris-virginica':2})\r\n",
        "y_ftA = y_ft.replace({'Iris-setosa':0,'Iris-versicolor':1,'Iris-virginica':2})\r\n",
        "\r\n",
        "# one hot encoding of indices\r\n",
        "y_testB = tf.one_hot(y_testA['Species'].tolist(),3) \r\n",
        "#print(y_testB)\r\n",
        "y_trainB = tf.one_hot(y_trainA['Species'].tolist(),3)\r\n",
        "#print(y_trainB)\r\n",
        "y_ftB = np.array(tf.one_hot(y_ftA['Species'].tolist(),3))"
      ],
      "execution_count": null,
      "outputs": []
    },
    {
      "cell_type": "code",
      "metadata": {
        "id": "fNjHX8hhaXc8"
      },
      "source": [
        "# convert it to array format for vector operations.\r\n",
        "y_trainB2 = np.array(y_trainB)\r\n",
        "y_testB2 = np.array(y_testB)"
      ],
      "execution_count": 21,
      "outputs": []
    },
    {
      "cell_type": "code",
      "metadata": {
        "id": "FobLYV937Zj5"
      },
      "source": [
        "# Sigma Activation function\r\n",
        "def sigma(x):\r\n",
        "  x1 = 1/(1+np.exp(-x))\r\n",
        "  return(x1)\r\n",
        "\r\n",
        "# Relu function\r\n",
        "def relu_f(x):\r\n",
        "  return(np.maximum(0,x))\r\n",
        "\r\n",
        "# defines the derivative of relu function\r\n",
        "def relu_d(x):\r\n",
        "  return(np.greater(x, 0).astype(int))\r\n",
        "\r\n",
        "# Alternative way for defintion of derivative of relu function\r\n",
        "#def relu2(x):\r\n",
        "  #x[x<=0] =0\r\n",
        "  #x[x>0] = 1\r\n",
        "  #return(x)\r\n",
        "\r\n",
        "# Softmax function\r\n",
        "def soft(x):\r\n",
        "  return(np.exp(x)/np.sum(np.exp(x),axis = 0 ,keepdims = 1))\r\n",
        "\r\n",
        "\r\n",
        "    "
      ],
      "execution_count": 16,
      "outputs": []
    },
    {
      "cell_type": "markdown",
      "metadata": {
        "id": "2zNJQrkiT8qL"
      },
      "source": [
        "**TRAINING OF MODEL**"
      ]
    },
    {
      "cell_type": "code",
      "metadata": {
        "colab": {
          "base_uri": "https://localhost:8080/",
          "height": 296
        },
        "id": "Cgubx7W5Is4P",
        "outputId": "cb1b9f16-0446-4cd9-808b-79afb1a8fbd9"
      },
      "source": [
        "# TRAINING OF MODEL\r\n",
        "m1 = x_trainA.shape[0] # number of training examples\r\n",
        "\r\n",
        "learning_rate = 0.01 \r\n",
        "\r\n",
        "w1 = np.random.rand(4,32) # Hidden layer weight(32 nodes);random initialization\r\n",
        "b1 = np.random.rand(32,1) # Hidden layer bias\r\n",
        "w2 = np.random.rand(32,3) # output layer weight \r\n",
        "b2 = np.random.rand(3,1) # output layer bias\r\n",
        "\r\n",
        "Loss1 = 0\r\n",
        "loss2 = []\r\n",
        "dz1 = 0\r\n",
        "dz2 = 0\r\n",
        "dw1 = 0\r\n",
        "dw2 = 0\r\n",
        "db1 = 0 \r\n",
        "db2 = 0\r\n",
        "for i in range(0,600): # number of epochs or cycles\r\n",
        "  # forward propagation equations\r\n",
        "  z1 = (w1.T) @ (x_trainA.T) + b1 \r\n",
        "  a1 = relu_f(z1)\r\n",
        "  z2 = (w2.T) @ (a1) + b2\r\n",
        "  a2a = relu_f(z2)\r\n",
        "  a2 = soft(a2a)\r\n",
        "  Loss1 = np.sum(-(y_trainB2.T*np.log(a2) + (1-y_trainB2.T)*(np.log(1-a2)))/m1)\r\n",
        "  #print(Loss1)\r\n",
        "  loss2.append(Loss1)\r\n",
        "\r\n",
        "  # backward propagation\r\n",
        "  dz2 = (a2 - y_trainB2.T)\r\n",
        "  dw2 = a1 @ dz2.T\r\n",
        "  db2 = np.sum(dz2)\r\n",
        "\r\n",
        "  dz1 = (w2 @ dz2)*(relu_d(a1))\r\n",
        "  dw1 = x_trainA.T @ dz1.T\r\n",
        "  db1 = np.sum(dz1)\r\n",
        "\r\n",
        "  w2 = w2 - learning_rate*dw2/m1\r\n",
        "  b2 = b2 - learning_rate*db2/m1\r\n",
        "  w1 = w1 - learning_rate*dw1/m1\r\n",
        "  b1 = b1 - learning_rate*db1/m1\r\n",
        "\r\n",
        "print(\"Loss after Training is = \",round(Loss1,3))\r\n",
        "# plotting of loss vs epochs\r\n",
        "plt.plot(list(range(0,600)),loss2)\r\n",
        "plt.grid(which = 'minor', axis ='both')\r\n",
        "plt.xlabel('Epochs')\r\n",
        "plt.ylabel('Loss')\r\n",
        "plt.show()\r\n"
      ],
      "execution_count": 118,
      "outputs": [
        {
          "output_type": "stream",
          "text": [
            "Loss after Training is =  0.283\n"
          ],
          "name": "stdout"
        },
        {
          "output_type": "display_data",
          "data": {
            "image/png": "[encoded data removed]",
            "text/plain": [
              "<Figure size 432x288 with 1 Axes>"
            ]
          },
          "metadata": {
            "tags": [],
            "needs_background": "light"
          }
        }
      ]
    },
    {
      "cell_type": "code",
      "metadata": {
        "id": "zTvo0Pno9sJD"
      },
      "source": [
        "# function to compare labels and test loadcases\r\n",
        "def compare(x2,y2):\r\n",
        "  label = ['Iris-setosa','Iris-versicolor','Iris-virginica']\r\n",
        "  t2 = (np.greater(x2,0.7).astype(int))\r\n",
        "  t3 = np.argmax(t2,axis = 0)\r\n",
        "  t4 = np.argmax(y2,axis = 1)\r\n",
        "  t55 =[]\r\n",
        "  for i in range(0,10):\r\n",
        "    t55.append('Test is '+label[t3[i]]+'  Label is '+label[t4[i]])\r\n",
        "  return(t55)\r\n",
        "\r\n"
      ],
      "execution_count": 86,
      "outputs": []
    },
    {
      "cell_type": "code",
      "metadata": {
        "id": "G2h7Q2TcqGNz"
      },
      "source": [
        "# function to evaluate the test set after training model\r\n",
        "\r\n",
        "def evaluate_model(x1,y1):\r\n",
        "  z11 = (w1.T) @ (x1.T) + b1\r\n",
        "  a11 = relu_f(z11)\r\n",
        "  z22 = (w2.T) @ (a11) + b2\r\n",
        "  a22a = relu_f(z22)\r\n",
        "  a22 = soft(a22a)\r\n",
        "\r\n",
        "  Loss11 = np.sum(-(y1.T*np.log(a22) + (1-y1.T)*(np.log(1-a22)))/len(x1)) \r\n",
        "  return(a22,Loss11)"
      ],
      "execution_count": 78,
      "outputs": []
    },
    {
      "cell_type": "code",
      "metadata": {
        "id": "tfQG2dN9Fk2S"
      },
      "source": [
        "# Check results for test set\r\n",
        "v1 = evaluate_model(x_testA,y_testB2)\r\n",
        "v2 = compare(v1[0],y_testB2)\r\n",
        "for i in v2:\r\n",
        "  print(i) "
      ],
      "execution_count": null,
      "outputs": []
    },
    {
      "cell_type": "code",
      "metadata": {
        "id": "vT2BMAb5H3da"
      },
      "source": [
        "#Check results for additional test set\r\n",
        "v3 = evaluate_model(x_ftA,y_ftB)\r\n",
        "v4 = compare(v3[0],y_ftB)\r\n",
        "print(\"Loss is\",round(v3[1],3))\r\n",
        "for i in v4:\r\n",
        "  print(i) "
      ],
      "execution_count": null,
      "outputs": []
    },
    {
      "cell_type": "markdown",
      "metadata": {
        "id": "oIf-QyyjL9jY"
      },
      "source": [
        "**COMPARISON WITH KERAS IMPLEMENTATION OF MODEL**\r\n",
        "\r\n",
        "---\r\n",
        "\r\n"
      ]
    },
    {
      "cell_type": "code",
      "metadata": {
        "id": "DEoNCdHF5ov5"
      },
      "source": [
        "#Model architecture using 1 hidden layer and 1 output layer \r\n",
        "model = tf.keras.models.Sequential()     \r\n",
        "model.add(tf.keras.layers.Dense(64, activation='relu', input_shape=(4,)))    \r\n",
        "model.add(tf.keras.layers.Dense(3, activation='softmax'))   \r\n",
        "\r\n",
        "model.summary()"
      ],
      "execution_count": null,
      "outputs": []
    },
    {
      "cell_type": "code",
      "metadata": {
        "id": "PaSHu0jM90sA"
      },
      "source": [
        "# Define the loss function, momentum (optimiser) and metrics\r\n",
        "model.compile(loss='categorical_crossentropy',optimizer= 'SGD',metrics=['accuracy'])\r\n",
        "\r\n",
        "history = model.fit(x_trainA, y_trainB,\r\n",
        "                    batch_size=0,\r\n",
        "                    epochs=100,\r\n",
        "                    verbose=1,\r\n",
        "                    validation_data=(x_testA, y_testB))"
      ],
      "execution_count": null,
      "outputs": []
    },
    {
      "cell_type": "code",
      "metadata": {
        "id": "dtN64F85-EIh",
        "colab": {
          "base_uri": "https://localhost:8080/"
        },
        "outputId": "282ba326-7849-4661-ab8b-9ebf96ceb474"
      },
      "source": [
        "# Evaluate the test data\r\n",
        "score = model.evaluate(x_testA, y_testB, verbose=0)\r\n",
        "# Prints out scores\r\n",
        "print('Test loss:', score[0])\r\n",
        "print('Test accuracy:', score[1])"
      ],
      "execution_count": 106,
      "outputs": [
        {
          "output_type": "stream",
          "text": [
            "Test loss: 0.03322301432490349\n",
            "Test accuracy: 1.0\n"
          ],
          "name": "stdout"
        }
      ]
    }
  ]
}