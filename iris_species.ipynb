{
  "nbformat": 4,
  "nbformat_minor": 0,
  "metadata": {
    "colab": {
      "name": "iris_species.ipynb",
      "provenance": [],
      "collapsed_sections": [],
      "authorship_tag": "ABX9TyO1zW5YVGmSqOHeTzJY1MLn",
      "include_colab_link": true
    },
    "kernelspec": {
      "name": "python3",
      "display_name": "Python 3"
    }
  },
  "cells": [
    {
      "cell_type": "markdown",
      "metadata": {
        "id": "view-in-github",
        "colab_type": "text"
      },
      "source": [
        "<a href=\"https://colab.research.google.com/github/adityasankalp/Iris_ML/blob/main/iris_species.ipynb\" target=\"_parent\"><img src=\"https://colab.research.google.com/assets/colab-badge.svg\" alt=\"Open In Colab\"/></a>"
      ]
    },
    {
      "cell_type": "markdown",
      "metadata": {
        "id": "M4L8YqAfH9yu"
      },
      "source": [
        "Import the relevant modules , numpy, pandas and tensorflow"
      ]
    },
    {
      "cell_type": "code",
      "metadata": {
        "id": "2F8MQf0zGPCZ"
      },
      "source": [
        "import numpy as np\r\n",
        "import pandas as pd\r\n",
        "import tensorflow as tf\r\n",
        "from tensorflow.keras import Model"
      ],
      "execution_count": 1,
      "outputs": []
    },
    {
      "cell_type": "markdown",
      "metadata": {
        "id": "ZioWOrXLIluG"
      },
      "source": [
        "Load the Iris file and store it in a dataframe. Check the data"
      ]
    },
    {
      "cell_type": "code",
      "metadata": {
        "colab": {
          "base_uri": "https://localhost:8080/"
        },
        "id": "RPvVRbkxIrYO",
        "outputId": "55ccc731-d515-4c79-bf4c-9d4e904c2596"
      },
      "source": [
        "from google.colab import drive\r\n",
        "drive.mount('/content/drive')"
      ],
      "execution_count": 2,
      "outputs": [
        {
          "output_type": "stream",
          "text": [
            "Mounted at /content/drive\n"
          ],
          "name": "stdout"
        }
      ]
    },
    {
      "cell_type": "code",
      "metadata": {
        "id": "Jdp7rXk7Kb54"
      },
      "source": [
        "data1 = pd.read_csv('/content/drive/My Drive/Colab Notebooks/Iris.csv') # read the database in a dataframe"
      ],
      "execution_count": 5,
      "outputs": []
    },
    {
      "cell_type": "code",
      "metadata": {
        "id": "smAXdVKULXym"
      },
      "source": [
        "data1.head(10) # examine the first 10 rows"
      ],
      "execution_count": null,
      "outputs": []
    },
    {
      "cell_type": "code",
      "metadata": {
        "id": "OGDHZ3bmMEXA"
      },
      "source": [
        "data2 = data1.copy() # copy the database in a new dataframe\r\n",
        "data2.shape\r\n",
        "data_3 = data2.sample(frac = 1).reset_index(drop = \"true\") # randomizes the dataframe\r\n",
        "data_test = data_3[:10] # copies 10 data for test\r\n",
        "data_train = data_3[20:].reset_index(drop ='true') # copies 130 data for training\r\n",
        "data_ft = data_3[10:20] # Additional 10 data for further testing"
      ],
      "execution_count": 138,
      "outputs": []
    },
    {
      "cell_type": "code",
      "metadata": {
        "id": "gLjgntoeUFcq"
      },
      "source": [
        "print(data_test)\r\n",
        "print(data_train)"
      ],
      "execution_count": null,
      "outputs": []
    },
    {
      "cell_type": "code",
      "metadata": {
        "colab": {
          "base_uri": "https://localhost:8080/"
        },
        "id": "qCceD8-gUZau",
        "outputId": "ee1deffd-090d-4351-ad7a-9aef6b88cc09"
      },
      "source": [
        "data_train.shape"
      ],
      "execution_count": 139,
      "outputs": [
        {
          "output_type": "execute_result",
          "data": {
            "text/plain": [
              "(130, 6)"
            ]
          },
          "metadata": {
            "tags": []
          },
          "execution_count": 139
        }
      ]
    },
    {
      "cell_type": "code",
      "metadata": {
        "id": "3VaGxuf_Ur1r"
      },
      "source": [
        "# copy the features in training data\r\n",
        "x_train = data_train[[\"SepalLengthCm\",\"SepalWidthCm\",\"PetalLengthCm\",\"PetalWidthCm\"]].copy()\r\n",
        "x_train.head()\r\n",
        "x_test = data_test[[\"SepalLengthCm\",\"SepalWidthCm\",\"PetalLengthCm\",\"PetalWidthCm\"]].copy()\r\n",
        "x_ft = data_ft[[\"SepalLengthCm\",\"SepalWidthCm\",\"PetalLengthCm\",\"PetalWidthCm\"]].copy()\r\n",
        "\r\n",
        "# copy the labels for comparison\r\n",
        "y_train = data_train[[\"Species\"]].copy()\r\n",
        "y_test = data_test[[\"Species\"]].copy()\r\n",
        "y_ft = data_ft[[\"Species\"]].copy()\r\n",
        "y_train.head()"
      ],
      "execution_count": null,
      "outputs": []
    },
    {
      "cell_type": "code",
      "metadata": {
        "id": "qUru7rK_WwWa"
      },
      "source": [
        "# one- hot encoding of the labels requires as labels are in string format.\r\n",
        "y_testA = y_test.replace({'Iris-setosa':0,'Iris-versicolor':1,'Iris-virginica':2})\r\n",
        "y_trainA = y_train.replace({'Iris-setosa':0,'Iris-versicolor':1,'Iris-virginica':2})\r\n",
        "\r\n",
        "y_testB = tf.one_hot(y_testA['Species'].tolist(),3) # one hot encoding of test and training data\r\n",
        "print(y_testB)\r\n",
        "y_trainB = tf.one_hot(y_trainA['Species'].tolist(),3)\r\n",
        "#print(y_trainB)"
      ],
      "execution_count": null,
      "outputs": []
    },
    {
      "cell_type": "code",
      "metadata": {
        "id": "0tPPJyNh9d0r"
      },
      "source": [
        "# Convert training data to required format for model\r\n",
        "x_trainA = np.array(x_train)\r\n",
        "x_trainA.shape\r\n",
        "x_testA = np.array(x_test)\r\n",
        "x_testA.shape\r\n",
        "print(x_testA)\r\n",
        "x_ftA = np.array(x_ft)"
      ],
      "execution_count": null,
      "outputs": []
    },
    {
      "cell_type": "code",
      "metadata": {
        "id": "DEoNCdHF5ov5"
      },
      "source": [
        "#Model architecture using 1 hidden layer and 1 output layer \r\n",
        "model = tf.keras.models.Sequential()     \r\n",
        "model.add(tf.keras.layers.Dense(64, activation='relu', input_shape=(4,)))    \r\n",
        "model.add(tf.keras.layers.Dense(3, activation='softmax'))   \r\n",
        "\r\n",
        "model.summary()"
      ],
      "execution_count": null,
      "outputs": []
    },
    {
      "cell_type": "code",
      "metadata": {
        "id": "PaSHu0jM90sA"
      },
      "source": [
        "# Define the loss function, momentum (optimiser) and metrics\r\n",
        "model.compile(loss='categorical_crossentropy',optimizer= 'rmsprop',metrics=['accuracy'])\r\n",
        "\r\n",
        "history = model.fit(x_trainA, y_trainB,\r\n",
        "                    batch_size=10,\r\n",
        "                    epochs=100,\r\n",
        "                    verbose=1,\r\n",
        "                    validation_data=(x_testA, y_testB))"
      ],
      "execution_count": null,
      "outputs": []
    },
    {
      "cell_type": "code",
      "metadata": {
        "id": "dtN64F85-EIh"
      },
      "source": [
        "# Evaluate the test data\r\n",
        "score = model.evaluate(x_testA, y_testB, verbose=0)\r\n",
        "# Prints out scores\r\n",
        "print('Test loss:', score[0])\r\n",
        "print('Test accuracy:', score[1])"
      ],
      "execution_count": null,
      "outputs": []
    },
    {
      "cell_type": "code",
      "metadata": {
        "id": "n3rRRkQ9GZxM"
      },
      "source": [
        "# further tests with additional data\r\n",
        "#print(data_ft)\r\n",
        "print(x_ftA)\r\n",
        "#print(y_ft)\r\n",
        "len(x_ftA)\r\n",
        "#for i in range(0,len(x_ftA)):\r\n",
        " # print(x_ftA[:][i].T)\r\n",
        "for i in x_ftA:\r\n",
        "  print(i.T)"
      ],
      "execution_count": null,
      "outputs": []
    },
    {
      "cell_type": "code",
      "metadata": {
        "id": "DmWnqO5lBTGq"
      },
      "source": [
        "# Comparison of additional test data\r\n",
        "label = ['Iris-setosa','Iris-versicolor','Iris-virginica']\r\n",
        "#t1 = [[5,2.3,3.3,1]]\r\n",
        "\r\n",
        "#for i in x_ftA:\r\n",
        "t2 = model.predict(x_ftA)\r\n",
        "#print(t2)\r\n",
        "t3 = np.argmax(t2,axis = 1)\r\n",
        "#print(t3)\r\n",
        "\r\n",
        "print(y_ft)\r\n",
        "\r\n",
        "for i in t3:\r\n",
        "  print(label[i])\r\n",
        "\r\n",
        "#print(label[t3])\r\n",
        "#print(t2)\r\n",
        "#print(t2.shape)\r\n",
        "\r\n",
        "#print(t3)\r\n"
      ],
      "execution_count": null,
      "outputs": []
    }
  ]
}